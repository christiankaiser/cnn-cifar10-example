{
 "cells": [
  {
   "cell_type": "markdown",
   "metadata": {},
   "source": [
    "# Image classification example using a CNN with Tensorflow"
   ]
  },
  {
   "cell_type": "markdown",
   "metadata": {},
   "source": [
    "This example is taken to a good amount from [github.com/GzuPark/image_classification](https://github.com/GzuPark/image_classification/blob/master/dlnd_image_classification.ipynb) with some minor code changes and some model architecture changes to improve the total accuracy."
   ]
  },
  {
   "cell_type": "markdown",
   "metadata": {},
   "source": [
    "We use images from the [CIFAR-10 dataset](https://www.cs.toronto.edu/~kriz/cifar.html) in this example. These are images from airplanes, dogs, cats, ships, deers etc.\n",
    "\n",
    "The dataset is in the `cifar-10-batches-py` folder."
   ]
  },
  {
   "cell_type": "code",
   "execution_count": 1,
   "metadata": {
    "collapsed": true
   },
   "outputs": [],
   "source": [
    "cifar10_dir= 'cifar-10-batches-py'\n"
   ]
  },
  {
   "cell_type": "markdown",
   "metadata": {},
   "source": [
    "The dataset has 5 batches, with each batch having labels and images from one of the 10 classes:\n",
    "\n",
    "* airplane\n",
    "* automobile\n",
    "* bird\n",
    "* cat\n",
    "* deer\n",
    "* dog\n",
    "* frog\n",
    "* horse\n",
    "* ship\n",
    "* truck"
   ]
  },
  {
   "cell_type": "code",
   "execution_count": 2,
   "metadata": {
    "collapsed": true
   },
   "outputs": [],
   "source": [
    "label_names = ['airplane', 'automobile', 'bird', 'cat', 'deer', 'dog', 'frog', 'horse', 'ship', 'truck']"
   ]
  },
  {
   "cell_type": "markdown",
   "metadata": {},
   "source": [
    "## Exploring the data"
   ]
  },
  {
   "cell_type": "markdown",
   "metadata": {},
   "source": [
    "Let's have a look in the data..."
   ]
  },
  {
   "cell_type": "code",
   "execution_count": 3,
   "metadata": {},
   "outputs": [],
   "source": [
    "# Setting up the environment\n",
    "%matplotlib inline\n",
    "%config InlineBackend.figure_format = 'retina'\n",
    "import matplotlib.pyplot as plt\n",
    "import numpy as np\n",
    "import os\n",
    "import pickle\n"
   ]
  },
  {
   "cell_type": "code",
   "execution_count": 4,
   "metadata": {
    "collapsed": true
   },
   "outputs": [],
   "source": [
    "# Function to load a batch into memory\n",
    "def load_batch(data_dir, batch_id):\n",
    "    with open(os.path.join(cifar10_dir, 'data_batch_%i' % batch_id), mode='rb') as file:\n",
    "        batch = pickle.load(file, encoding='latin1')\n",
    "    feats = batch['data'].reshape((len(batch['data']), 3, 32, 32)).transpose(0, 2, 3, 1)\n",
    "    lbls = batch['labels']\n",
    "    return feats, lbls"
   ]
  },
  {
   "cell_type": "code",
   "execution_count": 5,
   "metadata": {},
   "outputs": [],
   "source": [
    "# and load the first batch\n",
    "feats, labels = load_batch(cifar10_dir, 1)"
   ]
  },
  {
   "cell_type": "code",
   "execution_count": 6,
   "metadata": {},
   "outputs": [
    {
     "name": "stdout",
     "output_type": "stream",
     "text": [
      "Label Id: 3 - Class: cat\n"
     ]
    },
    {
     "data": {
      "text/plain": [
       "<matplotlib.image.AxesImage at 0x7f093cae0ba8>"
      ]
     },
     "execution_count": 6,
     "metadata": {},
     "output_type": "execute_result"
    },
    {
     "data": {
      "image/png": "[encoded data removed]",
      "text/plain": [
       "<matplotlib.figure.Figure at 0x7f093cbbe908>"
      ]
     },
     "metadata": {
      "image/png": {
       "height": 250,
       "width": 253
      }
     },
     "output_type": "display_data"
    }
   ],
   "source": [
    "sample_id = 17\n",
    "sample_img = feats[sample_id]\n",
    "sample_lbl = labels[sample_id]\n",
    "print('Label Id: {} - Class: {}'.format(sample_lbl, label_names[sample_lbl]))\n",
    "plt.imshow(sample_img)"
   ]
  },
  {
   "cell_type": "code",
   "execution_count": 7,
   "metadata": {
    "code_folding": []
   },
   "outputs": [
    {
     "name": "stdout",
     "output_type": "stream",
     "text": [
      "[25, 225, (32, 32, 3)]\n"
     ]
    }
   ],
   "source": [
    "# some stats\n",
    "print([sample_img.min(), sample_img.max(), sample_img.shape])"
   ]
  },
  {
   "cell_type": "markdown",
   "metadata": {},
   "source": [
    "## Preprocessing"
   ]
  },
  {
   "cell_type": "markdown",
   "metadata": {},
   "source": [
    "### Normalizing the data\n",
    "\n",
    "We need to preprocess the data which is scaled between 0 and 255 to be within 0 and 1."
   ]
  },
  {
   "cell_type": "code",
   "execution_count": 8,
   "metadata": {
    "collapsed": true
   },
   "outputs": [],
   "source": [
    "def normalize(x):\n",
    "    return x / 255."
   ]
  },
  {
   "cell_type": "markdown",
   "metadata": {},
   "source": [
    "### One-hot encoding\n",
    "\n",
    "Instead of having 1 column with the 10 class labels, we need to have a vector of 10 numbers of 0 or 1. For each image, only one item of the vector is of course 1, all others are 0. This is this kind of data we will predict. In fact, we will rather predict the probability for each of the classes and pick the maximum as our resulting class."
   ]
  },
  {
   "cell_type": "code",
   "execution_count": 9,
   "metadata": {
    "collapsed": true
   },
   "outputs": [],
   "source": [
    "from sklearn import preprocessing\n",
    "lb = preprocessing.LabelBinarizer().fit(range(10))\n",
    "\n",
    "def one_hot_encode(x):\n",
    "    global lb\n",
    "    return lb.transform(x)"
   ]
  },
  {
   "cell_type": "markdown",
   "metadata": {},
   "source": [
    "### Split into training and test data"
   ]
  },
  {
   "cell_type": "markdown",
   "metadata": {},
   "source": [
    "We take out 10% of the data of each batch and save it to a test dataset. At the same time, we normalize and one-hot encode everything."
   ]
  },
  {
   "cell_type": "code",
   "execution_count": 10,
   "metadata": {
    "collapsed": true
   },
   "outputs": [],
   "source": [
    "test_feats, test_lbls = [], []"
   ]
  },
  {
   "cell_type": "code",
   "execution_count": 11,
   "metadata": {},
   "outputs": [],
   "source": [
    "for i in range(1, 6):\n",
    "    feats, lbls = load_batch(cifar10_dir, i)\n",
    "    test_size = int(len(feats) * 0.1)\n",
    "    \n",
    "    # training data\n",
    "    norm_feats = normalize(feats[:-test_size])\n",
    "    one_hot_lbls = one_hot_encode(lbls[:-test_size])\n",
    "    pickle.dump((norm_feats, one_hot_lbls), open('preprocess_batch_%i.p' % i, 'wb'))\n",
    "    \n",
    "    # add the rest to the test data\n",
    "    test_feats.extend(feats[-test_size:])\n",
    "    test_lbls.extend(lbls[-test_size:])\n",
    "\n",
    "# dump the test data too\n",
    "norm_test_feats = normalize(np.array(test_feats))\n",
    "one_hot_test_lbls = one_hot_encode(np.array(test_lbls))\n",
    "pickle.dump((norm_test_feats, one_hot_test_lbls), open('preprocess_test.p', 'wb'))\n"
   ]
  },
  {
   "cell_type": "markdown",
   "metadata": {},
   "source": [
    "## Build the network"
   ]
  },
  {
   "cell_type": "code",
   "execution_count": 12,
   "metadata": {},
   "outputs": [],
   "source": [
    "import tensorflow as tf"
   ]
  },
  {
   "cell_type": "code",
   "execution_count": 13,
   "metadata": {
    "collapsed": true
   },
   "outputs": [],
   "source": [
    "def conv2d_maxpool(x_tensor, conv_num_outputs, conv_ksize, conv_strides, pool_ksize, pool_strides):\n",
    "    \"\"\"\n",
    "    Apply convolution then max pooling to x_tensor\n",
    "    :param x_tensor: TensorFlow Tensor\n",
    "    :param conv_num_outputs: Number of outputs for the convolutional layer\n",
    "    :param conv_ksize: kernal size 2-D Tuple for the convolutional layer\n",
    "    :param conv_strides: Stride 2-D Tuple for convolution\n",
    "    :param pool_ksize: kernal size 2-D Tuple for pool\n",
    "    :param pool_strides: Stride 2-D Tuple for pool\n",
    "    : return: A tensor that represents convolution and max pooling of x_tensor\n",
    "    \"\"\"\n",
    "    # Weights\n",
    "    W_shape = list(conv_ksize) + [int(x_tensor.shape[3]), conv_num_outputs]\n",
    "    W = tf.Variable(tf.truncated_normal(W_shape, stddev=.05))\n",
    "    \n",
    "    # Apply convolution\n",
    "    x = tf.nn.conv2d(\n",
    "        x_tensor, W,\n",
    "        strides = [1] + list(conv_strides) + [1],\n",
    "        padding = 'SAME'\n",
    "    )\n",
    "    \n",
    "    # Add bias\n",
    "    b = tf.Variable(tf.zeros([conv_num_outputs]))\n",
    "    x = tf.nn.bias_add(x, b)\n",
    "    \n",
    "    # Nonlinear activation (ReLU)\n",
    "    x = tf.nn.relu(x)\n",
    "    \n",
    "    # Max pooling\n",
    "    return tf.nn.max_pool(\n",
    "        x,\n",
    "        ksize = [1] + list(pool_ksize) + [1],\n",
    "        strides = [1] + list(pool_strides) + [1],\n",
    "        padding = 'SAME'\n",
    "    )"
   ]
  },
  {
   "cell_type": "code",
   "execution_count": 14,
   "metadata": {},
   "outputs": [],
   "source": [
    "def flatten(x_tensor):\n",
    "    \"\"\"\n",
    "    Flatten x_tensor to (Batch Size, Flattened Image Size)\n",
    "    : x_tensor: A tensor of size (Batch Size, ...), where ... are the image dimensions.\n",
    "    : return: A tensor of size (Batch Size, Flattened Image Size).\n",
    "    \"\"\"\n",
    "    return tf.reshape(x_tensor, [-1, np.prod(x_tensor.shape.as_list()[1:])])"
   ]
  },
  {
   "cell_type": "code",
   "execution_count": 15,
   "metadata": {
    "collapsed": true
   },
   "outputs": [],
   "source": [
    "def fully_conn(x_tensor, num_outputs):\n",
    "    \"\"\"\n",
    "    Apply a fully connected layer to x_tensor using weight and bias\n",
    "    : x_tensor: A 2-D tensor where the first dimension is batch size.\n",
    "    : num_outputs: The number of output that the new tensor should be.\n",
    "    : return: A 2-D tensor where the second dimension is num_outputs.\n",
    "    \"\"\"\n",
    "    # Weights and bias\n",
    "    W = tf.Variable(tf.truncated_normal([int(x_tensor.shape[1]), num_outputs], stddev=.05))\n",
    "    b = tf.Variable(tf.zeros([num_outputs]))\n",
    "    \n",
    "    # The fully connected layer\n",
    "    x = tf.add(tf.matmul(x_tensor, W), b)\n",
    "    \n",
    "    # ReLU activation function\n",
    "    return tf.nn.relu(x)"
   ]
  },
  {
   "cell_type": "code",
   "execution_count": 16,
   "metadata": {
    "collapsed": true
   },
   "outputs": [],
   "source": [
    "def output(x_tensor, num_outputs):\n",
    "    \"\"\"\n",
    "    Apply a output layer to x_tensor using weight and bias\n",
    "    : x_tensor: A 2-D tensor where the first dimension is batch size.\n",
    "    : num_outputs: The number of output that the new tensor should be.\n",
    "    : return: A 2-D tensor where the second dimension is num_outputs.\n",
    "    \"\"\"\n",
    "    # Weights and bias\n",
    "    W = tf.Variable(tf.truncated_normal([int(x_tensor.shape[1]), num_outputs], stddev=.05))\n",
    "    b = tf.Variable(tf.zeros([num_outputs]))\n",
    "    \n",
    "    # The output layer\n",
    "    return tf.add(tf.matmul(x_tensor, W), b)"
   ]
  },
  {
   "cell_type": "code",
   "execution_count": 17,
   "metadata": {
    "collapsed": true
   },
   "outputs": [],
   "source": [
    "def conv_net(x, keep_prob):\n",
    "    \"\"\"\n",
    "    Create a convolutional neural network model\n",
    "    : x: Placeholder tensor that holds image data.\n",
    "    : keep_prob: Placeholder tensor that hold dropout keep probability.\n",
    "    : return: Tensor that represents logits\n",
    "    \"\"\"\n",
    "    # 3 convolution layers with max pooling\n",
    "    # All layers with same kernel, stride and maxpooling params\n",
    "    x = conv2d_maxpool(x, 64, (3,3), (1,1), (2,2), (2,2))\n",
    "    x = conv2d_maxpool(x, 128, (3,3), (1,1), (2,2), (2,2))\n",
    "    x = conv2d_maxpool(x, 256, (3,3), (1,1), (2,2), (2,2))\n",
    "    \n",
    "    # dropout after convolutions\n",
    "    x = tf.nn.dropout(x, keep_prob)\n",
    "    \n",
    "    # flatten layer\n",
    "    x = flatten(x)\n",
    "\n",
    "    # 1 fully connected layer followed by dropout\n",
    "    x = fully_conn(x, 1024)\n",
    "    x = tf.nn.dropout(x, keep_prob)\n",
    "    \n",
    "    # output layer\n",
    "    return output(x, 10)\n"
   ]
  },
  {
   "cell_type": "markdown",
   "metadata": {},
   "source": [
    "Finally build the network itself:"
   ]
  },
  {
   "cell_type": "code",
   "execution_count": 18,
   "metadata": {
    "collapsed": true
   },
   "outputs": [],
   "source": [
    "# Remove previous weights, bias, inputs, etc..\n",
    "tf.reset_default_graph()\n",
    "\n",
    "# Inputs\n",
    "x = tf.placeholder(tf.float32, [None, 32, 32, 3], name=\"x\")\n",
    "y = tf.placeholder(tf.float32, [None, 10], name=\"y\")\n",
    "keep_prob = tf.placeholder(tf.float32, name=\"keep_prob\")\n",
    "\n",
    "# Model\n",
    "logits = conv_net(x, keep_prob)\n",
    "\n",
    "# Name logits Tensor, so that is can be loaded from disk after training\n",
    "logits = tf.identity(logits, name='logits')\n",
    "\n",
    "# Loss and Optimizer\n",
    "cost = tf.reduce_mean(tf.nn.softmax_cross_entropy_with_logits(logits=logits, labels=y))\n",
    "optimizer = tf.train.AdamOptimizer().minimize(cost)\n",
    "\n",
    "# Accuracy\n",
    "correct_pred = tf.equal(tf.argmax(logits, 1), tf.argmax(y, 1))\n",
    "accuracy = tf.reduce_mean(tf.cast(correct_pred, tf.float32), name='accuracy')\n"
   ]
  },
  {
   "cell_type": "markdown",
   "metadata": {},
   "source": [
    "Prepare a function that yields loss and validation accuracy during training and validation:"
   ]
  },
  {
   "cell_type": "code",
   "execution_count": 19,
   "metadata": {
    "collapsed": true
   },
   "outputs": [],
   "source": [
    "def print_stats(session, feature_batch, label_batch, cost, accuracy):\n",
    "    \"\"\"\n",
    "    Print information about loss and validation accuracy\n",
    "    : session: Current TensorFlow session\n",
    "    : feature_batch: Batch of Numpy image data\n",
    "    : label_batch: Batch of Numpy label data\n",
    "    : cost: TensorFlow cost function\n",
    "    : accuracy: TensorFlow accuracy function\n",
    "    \"\"\"\n",
    "    global valid_features, valid_labels\n",
    "    loss = sess.run(cost, feed_dict={x: feature_batch, y: label_batch, keep_prob: 1.})\n",
    "    valid_acc = sess.run(\n",
    "        accuracy, \n",
    "        feed_dict={\n",
    "            x: norm_test_feats,\n",
    "            y: one_hot_test_lbls,\n",
    "            keep_prob: 1.\n",
    "        }\n",
    "    )\n",
    "    print('Loss: {:>8.4f}, Validation Accuracy: {:>8.6f}'.format(loss, valid_acc))"
   ]
  },
  {
   "cell_type": "markdown",
   "metadata": {},
   "source": [
    "Define the hyperparameters for the model:"
   ]
  },
  {
   "cell_type": "code",
   "execution_count": 20,
   "metadata": {
    "collapsed": true
   },
   "outputs": [],
   "source": [
    "epochs = 80\n",
    "batch_size = 1024\n",
    "keep_probability = 0.5\n"
   ]
  },
  {
   "cell_type": "markdown",
   "metadata": {},
   "source": [
    "Functions for loading the preprocessed training data:"
   ]
  },
  {
   "cell_type": "code",
   "execution_count": 21,
   "metadata": {
    "collapsed": true
   },
   "outputs": [],
   "source": [
    "def batch_features_labels(features, labels, batch_size):\n",
    "    \"\"\"\n",
    "    Split features and labels into batches\n",
    "    \"\"\"\n",
    "    for start in range(0, len(features), batch_size):\n",
    "        end = min(start + batch_size, len(features))\n",
    "        yield features[start:end], labels[start:end]\n",
    "\n",
    "\n",
    "def load_preprocess_training_batch(batch_id, batch_size):\n",
    "    \"\"\"\n",
    "    Load the Preprocessed Training data and return them in batches of <batch_size> or less\n",
    "    \"\"\"\n",
    "    filename = 'preprocess_batch_' + str(batch_id) + '.p'\n",
    "    features, labels = pickle.load(open(filename, mode='rb'))\n",
    "\n",
    "    # Return the training data in batches of size <batch_size> or less\n",
    "    return batch_features_labels(features, labels, batch_size)"
   ]
  },
  {
   "cell_type": "markdown",
   "metadata": {},
   "source": [
    "**Train the model**:"
   ]
  },
  {
   "cell_type": "code",
   "execution_count": 22,
   "metadata": {},
   "outputs": [
    {
     "name": "stdout",
     "output_type": "stream",
     "text": [
      "Training...\n",
      "Epoch  1, CIFAR-10 Batch 1:  Loss:   2.1154, Validation Accuracy: 0.251600\n",
      "Epoch  1, CIFAR-10 Batch 2:  Loss:   1.8830, Validation Accuracy: 0.340400\n",
      "Epoch  1, CIFAR-10 Batch 3:  Loss:   1.7558, Validation Accuracy: 0.349200\n",
      "Epoch  1, CIFAR-10 Batch 4:  Loss:   1.6675, Validation Accuracy: 0.399200\n",
      "Epoch  1, CIFAR-10 Batch 5:  Loss:   1.5634, Validation Accuracy: 0.428600\n",
      "Epoch  2, CIFAR-10 Batch 1:  Loss:   1.4796, Validation Accuracy: 0.467400\n",
      "Epoch  2, CIFAR-10 Batch 2:  Loss:   1.4239, Validation Accuracy: 0.476800\n",
      "Epoch  2, CIFAR-10 Batch 3:  Loss:   1.3235, Validation Accuracy: 0.505000\n",
      "Epoch  2, CIFAR-10 Batch 4:  Loss:   1.2974, Validation Accuracy: 0.522800\n",
      "Epoch  2, CIFAR-10 Batch 5:  Loss:   1.2653, Validation Accuracy: 0.533800\n",
      "Epoch  3, CIFAR-10 Batch 1:  Loss:   1.2227, Validation Accuracy: 0.543800\n",
      "Epoch  3, CIFAR-10 Batch 2:  Loss:   1.2210, Validation Accuracy: 0.563400\n",
      "Epoch  3, CIFAR-10 Batch 3:  Loss:   1.1541, Validation Accuracy: 0.564200\n",
      "Epoch  3, CIFAR-10 Batch 4:  Loss:   1.1347, Validation Accuracy: 0.571600\n",
      "Epoch  3, CIFAR-10 Batch 5:  Loss:   1.1403, Validation Accuracy: 0.581000\n",
      "Epoch  4, CIFAR-10 Batch 1:  Loss:   1.0624, Validation Accuracy: 0.603400\n",
      "Epoch  4, CIFAR-10 Batch 2:  Loss:   1.0671, Validation Accuracy: 0.609400\n",
      "Epoch  4, CIFAR-10 Batch 3:  Loss:   1.0078, Validation Accuracy: 0.606400\n",
      "Epoch  4, CIFAR-10 Batch 4:  Loss:   0.9718, Validation Accuracy: 0.624600\n",
      "Epoch  4, CIFAR-10 Batch 5:  Loss:   0.9754, Validation Accuracy: 0.618400\n",
      "Epoch  5, CIFAR-10 Batch 1:  Loss:   0.9627, Validation Accuracy: 0.631400\n",
      "Epoch  5, CIFAR-10 Batch 2:  Loss:   1.0139, Validation Accuracy: 0.622600\n",
      "Epoch  5, CIFAR-10 Batch 3:  Loss:   0.9253, Validation Accuracy: 0.632400\n",
      "Epoch  5, CIFAR-10 Batch 4:  Loss:   0.9032, Validation Accuracy: 0.645000\n",
      "Epoch  5, CIFAR-10 Batch 5:  Loss:   0.8691, Validation Accuracy: 0.649600\n",
      "Epoch  6, CIFAR-10 Batch 1:  Loss:   0.8705, Validation Accuracy: 0.664000\n",
      "Epoch  6, CIFAR-10 Batch 2:  Loss:   0.8860, Validation Accuracy: 0.665400\n",
      "Epoch  6, CIFAR-10 Batch 3:  Loss:   0.8518, Validation Accuracy: 0.653600\n",
      "Epoch  6, CIFAR-10 Batch 4:  Loss:   0.8051, Validation Accuracy: 0.672800\n",
      "Epoch  6, CIFAR-10 Batch 5:  Loss:   0.7555, Validation Accuracy: 0.686800\n",
      "Epoch  7, CIFAR-10 Batch 1:  Loss:   0.8060, Validation Accuracy: 0.686600\n",
      "Epoch  7, CIFAR-10 Batch 2:  Loss:   0.8006, Validation Accuracy: 0.690000\n",
      "Epoch  7, CIFAR-10 Batch 3:  Loss:   0.7854, Validation Accuracy: 0.673400\n",
      "Epoch  7, CIFAR-10 Batch 4:  Loss:   0.7402, Validation Accuracy: 0.699000\n",
      "Epoch  7, CIFAR-10 Batch 5:  Loss:   0.7118, Validation Accuracy: 0.696200\n",
      "Epoch  8, CIFAR-10 Batch 1:  Loss:   0.7426, Validation Accuracy: 0.701400\n",
      "Epoch  8, CIFAR-10 Batch 2:  Loss:   0.7390, Validation Accuracy: 0.706800\n",
      "Epoch  8, CIFAR-10 Batch 3:  Loss:   0.7131, Validation Accuracy: 0.697600\n",
      "Epoch  8, CIFAR-10 Batch 4:  Loss:   0.6906, Validation Accuracy: 0.701200\n",
      "Epoch  8, CIFAR-10 Batch 5:  Loss:   0.6551, Validation Accuracy: 0.705000\n",
      "Epoch  9, CIFAR-10 Batch 1:  Loss:   0.6842, Validation Accuracy: 0.710600\n",
      "Epoch  9, CIFAR-10 Batch 2:  Loss:   0.6894, Validation Accuracy: 0.723000\n",
      "Epoch  9, CIFAR-10 Batch 3:  Loss:   0.6756, Validation Accuracy: 0.713400\n",
      "Epoch  9, CIFAR-10 Batch 4:  Loss:   0.6331, Validation Accuracy: 0.726200\n",
      "Epoch  9, CIFAR-10 Batch 5:  Loss:   0.6047, Validation Accuracy: 0.721400\n",
      "Epoch 10, CIFAR-10 Batch 1:  Loss:   0.6294, Validation Accuracy: 0.725600\n",
      "Epoch 10, CIFAR-10 Batch 2:  Loss:   0.6389, Validation Accuracy: 0.736400\n",
      "Epoch 10, CIFAR-10 Batch 3:  Loss:   0.5951, Validation Accuracy: 0.734400\n",
      "Epoch 10, CIFAR-10 Batch 4:  Loss:   0.5766, Validation Accuracy: 0.740800\n",
      "Epoch 10, CIFAR-10 Batch 5:  Loss:   0.5484, Validation Accuracy: 0.729000\n",
      "Epoch 11, CIFAR-10 Batch 1:  Loss:   0.5888, Validation Accuracy: 0.737000\n",
      "Epoch 11, CIFAR-10 Batch 2:  Loss:   0.6063, Validation Accuracy: 0.739800\n",
      "Epoch 11, CIFAR-10 Batch 3:  Loss:   0.5566, Validation Accuracy: 0.749000\n",
      "Epoch 11, CIFAR-10 Batch 4:  Loss:   0.5718, Validation Accuracy: 0.733200\n",
      "Epoch 11, CIFAR-10 Batch 5:  Loss:   0.5233, Validation Accuracy: 0.740000\n",
      "Epoch 12, CIFAR-10 Batch 1:  Loss:   0.5447, Validation Accuracy: 0.748800\n",
      "Epoch 12, CIFAR-10 Batch 2:  Loss:   0.5588, Validation Accuracy: 0.749000\n",
      "Epoch 12, CIFAR-10 Batch 3:  Loss:   0.5199, Validation Accuracy: 0.749000\n",
      "Epoch 12, CIFAR-10 Batch 4:  Loss:   0.4991, Validation Accuracy: 0.749600\n",
      "Epoch 12, CIFAR-10 Batch 5:  Loss:   0.4545, Validation Accuracy: 0.753600\n",
      "Epoch 13, CIFAR-10 Batch 1:  Loss:   0.5118, Validation Accuracy: 0.758000\n",
      "Epoch 13, CIFAR-10 Batch 2:  Loss:   0.5542, Validation Accuracy: 0.745400\n",
      "Epoch 13, CIFAR-10 Batch 3:  Loss:   0.5083, Validation Accuracy: 0.751200\n",
      "Epoch 13, CIFAR-10 Batch 4:  Loss:   0.4770, Validation Accuracy: 0.756800\n",
      "Epoch 13, CIFAR-10 Batch 5:  Loss:   0.4266, Validation Accuracy: 0.751400\n",
      "Epoch 14, CIFAR-10 Batch 1:  Loss:   0.4738, Validation Accuracy: 0.764200\n",
      "Epoch 14, CIFAR-10 Batch 2:  Loss:   0.5043, Validation Accuracy: 0.765000\n",
      "Epoch 14, CIFAR-10 Batch 3:  Loss:   0.4852, Validation Accuracy: 0.760400\n",
      "Epoch 14, CIFAR-10 Batch 4:  Loss:   0.4659, Validation Accuracy: 0.759800\n",
      "Epoch 14, CIFAR-10 Batch 5:  Loss:   0.4199, Validation Accuracy: 0.760400\n",
      "Epoch 15, CIFAR-10 Batch 1:  Loss:   0.4505, Validation Accuracy: 0.770400\n",
      "Epoch 15, CIFAR-10 Batch 2:  Loss:   0.4602, Validation Accuracy: 0.767800\n",
      "Epoch 15, CIFAR-10 Batch 3:  Loss:   0.4330, Validation Accuracy: 0.762200\n",
      "Epoch 15, CIFAR-10 Batch 4:  Loss:   0.4049, Validation Accuracy: 0.776600\n",
      "Epoch 15, CIFAR-10 Batch 5:  Loss:   0.3935, Validation Accuracy: 0.767800\n",
      "Epoch 16, CIFAR-10 Batch 1:  Loss:   0.4231, Validation Accuracy: 0.768600\n",
      "Epoch 16, CIFAR-10 Batch 2:  Loss:   0.4383, Validation Accuracy: 0.773400\n",
      "Epoch 16, CIFAR-10 Batch 3:  Loss:   0.4102, Validation Accuracy: 0.772800\n",
      "Epoch 16, CIFAR-10 Batch 4:  Loss:   0.4036, Validation Accuracy: 0.775000\n",
      "Epoch 16, CIFAR-10 Batch 5:  Loss:   0.3452, Validation Accuracy: 0.779600\n",
      "Epoch 17, CIFAR-10 Batch 1:  Loss:   0.3890, Validation Accuracy: 0.783600\n",
      "Epoch 17, CIFAR-10 Batch 2:  Loss:   0.3983, Validation Accuracy: 0.780000\n",
      "Epoch 17, CIFAR-10 Batch 3:  Loss:   0.3741, Validation Accuracy: 0.772400\n",
      "Epoch 17, CIFAR-10 Batch 4:  Loss:   0.3673, Validation Accuracy: 0.774400\n",
      "Epoch 17, CIFAR-10 Batch 5:  Loss:   0.3471, Validation Accuracy: 0.771400\n",
      "Epoch 18, CIFAR-10 Batch 1:  Loss:   0.3549, Validation Accuracy: 0.777600\n",
      "Epoch 18, CIFAR-10 Batch 2:  Loss:   0.3765, Validation Accuracy: 0.783600\n",
      "Epoch 18, CIFAR-10 Batch 3:  Loss:   0.3570, Validation Accuracy: 0.776200\n",
      "Epoch 18, CIFAR-10 Batch 4:  Loss:   0.3364, Validation Accuracy: 0.773600\n",
      "Epoch 18, CIFAR-10 Batch 5:  Loss:   0.3066, Validation Accuracy: 0.777600\n",
      "Epoch 19, CIFAR-10 Batch 1:  Loss:   0.3491, Validation Accuracy: 0.774400\n",
      "Epoch 19, CIFAR-10 Batch 2:  Loss:   0.3673, Validation Accuracy: 0.776000\n",
      "Epoch 19, CIFAR-10 Batch 3:  Loss:   0.3514, Validation Accuracy: 0.778800\n",
      "Epoch 19, CIFAR-10 Batch 4:  Loss:   0.3139, Validation Accuracy: 0.777800\n",
      "Epoch 19, CIFAR-10 Batch 5:  Loss:   0.2719, Validation Accuracy: 0.780200\n",
      "Epoch 20, CIFAR-10 Batch 1:  Loss:   0.3140, Validation Accuracy: 0.786400\n",
      "Epoch 20, CIFAR-10 Batch 2:  Loss:   0.3233, Validation Accuracy: 0.783200\n",
      "Epoch 20, CIFAR-10 Batch 3:  Loss:   0.2980, Validation Accuracy: 0.786600\n",
      "Epoch 20, CIFAR-10 Batch 4:  Loss:   0.2680, Validation Accuracy: 0.798200\n",
      "Epoch 20, CIFAR-10 Batch 5:  Loss:   0.2481, Validation Accuracy: 0.786800\n",
      "Epoch 21, CIFAR-10 Batch 1:  Loss:   0.2936, Validation Accuracy: 0.783200\n",
      "Epoch 21, CIFAR-10 Batch 2:  Loss:   0.2875, Validation Accuracy: 0.794000\n",
      "Epoch 21, CIFAR-10 Batch 3:  Loss:   0.2829, Validation Accuracy: 0.789400\n",
      "Epoch 21, CIFAR-10 Batch 4:  Loss:   0.2492, Validation Accuracy: 0.792200\n",
      "Epoch 21, CIFAR-10 Batch 5:  Loss:   0.2342, Validation Accuracy: 0.789200\n",
      "Epoch 22, CIFAR-10 Batch 1:  Loss:   0.2761, Validation Accuracy: 0.795600\n",
      "Epoch 22, CIFAR-10 Batch 2:  Loss:   0.2756, Validation Accuracy: 0.789600\n",
      "Epoch 22, CIFAR-10 Batch 3:  Loss:   0.2442, Validation Accuracy: 0.795600\n",
      "Epoch 22, CIFAR-10 Batch 4:  Loss:   0.2406, Validation Accuracy: 0.795800\n"
     ]
    },
    {
     "name": "stdout",
     "output_type": "stream",
     "text": [
      "Epoch 22, CIFAR-10 Batch 5:  Loss:   0.2046, Validation Accuracy: 0.796600\n",
      "Epoch 23, CIFAR-10 Batch 1:  Loss:   0.2563, Validation Accuracy: 0.795000\n",
      "Epoch 23, CIFAR-10 Batch 2:  Loss:   0.2377, Validation Accuracy: 0.790600\n",
      "Epoch 23, CIFAR-10 Batch 3:  Loss:   0.2319, Validation Accuracy: 0.797800\n",
      "Epoch 23, CIFAR-10 Batch 4:  Loss:   0.2329, Validation Accuracy: 0.792400\n",
      "Epoch 23, CIFAR-10 Batch 5:  Loss:   0.1942, Validation Accuracy: 0.794200\n",
      "Epoch 24, CIFAR-10 Batch 1:  Loss:   0.2496, Validation Accuracy: 0.791200\n",
      "Epoch 24, CIFAR-10 Batch 2:  Loss:   0.2379, Validation Accuracy: 0.802000\n",
      "Epoch 24, CIFAR-10 Batch 3:  Loss:   0.2293, Validation Accuracy: 0.792600\n",
      "Epoch 24, CIFAR-10 Batch 4:  Loss:   0.1977, Validation Accuracy: 0.795200\n",
      "Epoch 24, CIFAR-10 Batch 5:  Loss:   0.1786, Validation Accuracy: 0.790600\n",
      "Epoch 25, CIFAR-10 Batch 1:  Loss:   0.2250, Validation Accuracy: 0.789600\n",
      "Epoch 25, CIFAR-10 Batch 2:  Loss:   0.2188, Validation Accuracy: 0.798200\n",
      "Epoch 25, CIFAR-10 Batch 3:  Loss:   0.2012, Validation Accuracy: 0.798200\n",
      "Epoch 25, CIFAR-10 Batch 4:  Loss:   0.1910, Validation Accuracy: 0.801600\n",
      "Epoch 25, CIFAR-10 Batch 5:  Loss:   0.1763, Validation Accuracy: 0.789400\n",
      "Epoch 26, CIFAR-10 Batch 1:  Loss:   0.2003, Validation Accuracy: 0.797800\n",
      "Epoch 26, CIFAR-10 Batch 2:  Loss:   0.2184, Validation Accuracy: 0.798200\n",
      "Epoch 26, CIFAR-10 Batch 3:  Loss:   0.1843, Validation Accuracy: 0.803800\n",
      "Epoch 26, CIFAR-10 Batch 4:  Loss:   0.1761, Validation Accuracy: 0.805600\n",
      "Epoch 26, CIFAR-10 Batch 5:  Loss:   0.1448, Validation Accuracy: 0.797400\n",
      "Epoch 27, CIFAR-10 Batch 1:  Loss:   0.1937, Validation Accuracy: 0.796800\n",
      "Epoch 27, CIFAR-10 Batch 2:  Loss:   0.1944, Validation Accuracy: 0.789000\n",
      "Epoch 27, CIFAR-10 Batch 3:  Loss:   0.1689, Validation Accuracy: 0.803800\n",
      "Epoch 27, CIFAR-10 Batch 4:  Loss:   0.1704, Validation Accuracy: 0.798400\n",
      "Epoch 27, CIFAR-10 Batch 5:  Loss:   0.1336, Validation Accuracy: 0.796200\n",
      "Epoch 28, CIFAR-10 Batch 1:  Loss:   0.1766, Validation Accuracy: 0.800400\n",
      "Epoch 28, CIFAR-10 Batch 2:  Loss:   0.1854, Validation Accuracy: 0.790600\n",
      "Epoch 28, CIFAR-10 Batch 3:  Loss:   0.1618, Validation Accuracy: 0.803000\n",
      "Epoch 28, CIFAR-10 Batch 4:  Loss:   0.1416, Validation Accuracy: 0.806200\n",
      "Epoch 28, CIFAR-10 Batch 5:  Loss:   0.1395, Validation Accuracy: 0.797200\n",
      "Epoch 29, CIFAR-10 Batch 1:  Loss:   0.1780, Validation Accuracy: 0.788400\n",
      "Epoch 29, CIFAR-10 Batch 2:  Loss:   0.1591, Validation Accuracy: 0.791600\n",
      "Epoch 29, CIFAR-10 Batch 3:  Loss:   0.1564, Validation Accuracy: 0.798600\n",
      "Epoch 29, CIFAR-10 Batch 4:  Loss:   0.1487, Validation Accuracy: 0.792000\n",
      "Epoch 29, CIFAR-10 Batch 5:  Loss:   0.1332, Validation Accuracy: 0.794000\n",
      "Epoch 30, CIFAR-10 Batch 1:  Loss:   0.1401, Validation Accuracy: 0.802800\n",
      "Epoch 30, CIFAR-10 Batch 2:  Loss:   0.1514, Validation Accuracy: 0.788200\n",
      "Epoch 30, CIFAR-10 Batch 3:  Loss:   0.1528, Validation Accuracy: 0.797000\n",
      "Epoch 30, CIFAR-10 Batch 4:  Loss:   0.1435, Validation Accuracy: 0.791000\n",
      "Epoch 30, CIFAR-10 Batch 5:  Loss:   0.1064, Validation Accuracy: 0.802200\n",
      "Epoch 31, CIFAR-10 Batch 1:  Loss:   0.1360, Validation Accuracy: 0.798400\n",
      "Epoch 31, CIFAR-10 Batch 2:  Loss:   0.1270, Validation Accuracy: 0.797000\n",
      "Epoch 31, CIFAR-10 Batch 3:  Loss:   0.1415, Validation Accuracy: 0.812000\n",
      "Epoch 31, CIFAR-10 Batch 4:  Loss:   0.1138, Validation Accuracy: 0.800800\n",
      "Epoch 31, CIFAR-10 Batch 5:  Loss:   0.1035, Validation Accuracy: 0.801600\n",
      "Epoch 32, CIFAR-10 Batch 1:  Loss:   0.1141, Validation Accuracy: 0.808800\n",
      "Epoch 32, CIFAR-10 Batch 2:  Loss:   0.1158, Validation Accuracy: 0.798400\n",
      "Epoch 32, CIFAR-10 Batch 3:  Loss:   0.1304, Validation Accuracy: 0.806200\n",
      "Epoch 32, CIFAR-10 Batch 4:  Loss:   0.1066, Validation Accuracy: 0.802000\n",
      "Epoch 32, CIFAR-10 Batch 5:  Loss:   0.0875, Validation Accuracy: 0.808000\n",
      "Epoch 33, CIFAR-10 Batch 1:  Loss:   0.0982, Validation Accuracy: 0.809000\n",
      "Epoch 33, CIFAR-10 Batch 2:  Loss:   0.1069, Validation Accuracy: 0.801000\n",
      "Epoch 33, CIFAR-10 Batch 3:  Loss:   0.1086, Validation Accuracy: 0.805600\n",
      "Epoch 33, CIFAR-10 Batch 4:  Loss:   0.0931, Validation Accuracy: 0.805400\n",
      "Epoch 33, CIFAR-10 Batch 5:  Loss:   0.0811, Validation Accuracy: 0.801600\n",
      "Epoch 34, CIFAR-10 Batch 1:  Loss:   0.1038, Validation Accuracy: 0.808800\n",
      "Epoch 34, CIFAR-10 Batch 2:  Loss:   0.1059, Validation Accuracy: 0.802200\n",
      "Epoch 34, CIFAR-10 Batch 3:  Loss:   0.1054, Validation Accuracy: 0.809000\n",
      "Epoch 34, CIFAR-10 Batch 4:  Loss:   0.0743, Validation Accuracy: 0.808400\n",
      "Epoch 34, CIFAR-10 Batch 5:  Loss:   0.0736, Validation Accuracy: 0.810800\n",
      "Epoch 35, CIFAR-10 Batch 1:  Loss:   0.0929, Validation Accuracy: 0.804200\n",
      "Epoch 35, CIFAR-10 Batch 2:  Loss:   0.1057, Validation Accuracy: 0.805400\n",
      "Epoch 35, CIFAR-10 Batch 3:  Loss:   0.1073, Validation Accuracy: 0.804000\n",
      "Epoch 35, CIFAR-10 Batch 4:  Loss:   0.0802, Validation Accuracy: 0.797400\n",
      "Epoch 35, CIFAR-10 Batch 5:  Loss:   0.0796, Validation Accuracy: 0.797400\n",
      "Epoch 36, CIFAR-10 Batch 1:  Loss:   0.0903, Validation Accuracy: 0.808800\n",
      "Epoch 36, CIFAR-10 Batch 2:  Loss:   0.0753, Validation Accuracy: 0.810400\n",
      "Epoch 36, CIFAR-10 Batch 3:  Loss:   0.0982, Validation Accuracy: 0.807000\n",
      "Epoch 36, CIFAR-10 Batch 4:  Loss:   0.0781, Validation Accuracy: 0.801800\n",
      "Epoch 36, CIFAR-10 Batch 5:  Loss:   0.0710, Validation Accuracy: 0.811000\n",
      "Epoch 37, CIFAR-10 Batch 1:  Loss:   0.0701, Validation Accuracy: 0.809600\n",
      "Epoch 37, CIFAR-10 Batch 2:  Loss:   0.0658, Validation Accuracy: 0.813600\n",
      "Epoch 37, CIFAR-10 Batch 3:  Loss:   0.0819, Validation Accuracy: 0.808600\n",
      "Epoch 37, CIFAR-10 Batch 4:  Loss:   0.0597, Validation Accuracy: 0.806800\n",
      "Epoch 37, CIFAR-10 Batch 5:  Loss:   0.0652, Validation Accuracy: 0.807400\n",
      "Epoch 38, CIFAR-10 Batch 1:  Loss:   0.0739, Validation Accuracy: 0.807800\n",
      "Epoch 38, CIFAR-10 Batch 2:  Loss:   0.0784, Validation Accuracy: 0.808000\n",
      "Epoch 38, CIFAR-10 Batch 3:  Loss:   0.0783, Validation Accuracy: 0.804600\n",
      "Epoch 38, CIFAR-10 Batch 4:  Loss:   0.0523, Validation Accuracy: 0.812400\n",
      "Epoch 38, CIFAR-10 Batch 5:  Loss:   0.0576, Validation Accuracy: 0.810800\n",
      "Epoch 39, CIFAR-10 Batch 1:  Loss:   0.0666, Validation Accuracy: 0.810200\n",
      "Epoch 39, CIFAR-10 Batch 2:  Loss:   0.0583, Validation Accuracy: 0.818600\n",
      "Epoch 39, CIFAR-10 Batch 3:  Loss:   0.0682, Validation Accuracy: 0.806800\n",
      "Epoch 39, CIFAR-10 Batch 4:  Loss:   0.0546, Validation Accuracy: 0.812600\n",
      "Epoch 39, CIFAR-10 Batch 5:  Loss:   0.0476, Validation Accuracy: 0.818600\n",
      "Epoch 40, CIFAR-10 Batch 1:  Loss:   0.0697, Validation Accuracy: 0.807000\n",
      "Epoch 40, CIFAR-10 Batch 2:  Loss:   0.0535, Validation Accuracy: 0.810200\n",
      "Epoch 40, CIFAR-10 Batch 3:  Loss:   0.0605, Validation Accuracy: 0.804000\n",
      "Epoch 40, CIFAR-10 Batch 4:  Loss:   0.0559, Validation Accuracy: 0.805400\n",
      "Epoch 40, CIFAR-10 Batch 5:  Loss:   0.0524, Validation Accuracy: 0.813800\n",
      "Epoch 41, CIFAR-10 Batch 1:  Loss:   0.0573, Validation Accuracy: 0.807800\n",
      "Epoch 41, CIFAR-10 Batch 2:  Loss:   0.0460, Validation Accuracy: 0.819800\n",
      "Epoch 41, CIFAR-10 Batch 3:  Loss:   0.0691, Validation Accuracy: 0.796200\n",
      "Epoch 41, CIFAR-10 Batch 4:  Loss:   0.0543, Validation Accuracy: 0.804000\n",
      "Epoch 41, CIFAR-10 Batch 5:  Loss:   0.0550, Validation Accuracy: 0.802000\n",
      "Epoch 42, CIFAR-10 Batch 1:  Loss:   0.0511, Validation Accuracy: 0.803400\n",
      "Epoch 42, CIFAR-10 Batch 2:  Loss:   0.0508, Validation Accuracy: 0.808600\n",
      "Epoch 42, CIFAR-10 Batch 3:  Loss:   0.0578, Validation Accuracy: 0.808800\n",
      "Epoch 42, CIFAR-10 Batch 4:  Loss:   0.0455, Validation Accuracy: 0.816200\n",
      "Epoch 42, CIFAR-10 Batch 5:  Loss:   0.0463, Validation Accuracy: 0.808600\n",
      "Epoch 43, CIFAR-10 Batch 1:  Loss:   0.0507, Validation Accuracy: 0.806400\n",
      "Epoch 43, CIFAR-10 Batch 2:  Loss:   0.0553, Validation Accuracy: 0.810600\n",
      "Epoch 43, CIFAR-10 Batch 3:  Loss:   0.0538, Validation Accuracy: 0.813800\n",
      "Epoch 43, CIFAR-10 Batch 4:  Loss:   0.0502, Validation Accuracy: 0.802200\n",
      "Epoch 43, CIFAR-10 Batch 5:  Loss:   0.0418, Validation Accuracy: 0.807400\n",
      "Epoch 44, CIFAR-10 Batch 1:  Loss:   0.0451, Validation Accuracy: 0.819200\n",
      "Epoch 44, CIFAR-10 Batch 2:  Loss:   0.0376, Validation Accuracy: 0.813600\n",
      "Epoch 44, CIFAR-10 Batch 3:  Loss:   0.0451, Validation Accuracy: 0.814000\n"
     ]
    },
    {
     "name": "stdout",
     "output_type": "stream",
     "text": [
      "Epoch 44, CIFAR-10 Batch 4:  Loss:   0.0472, Validation Accuracy: 0.804600\n",
      "Epoch 44, CIFAR-10 Batch 5:  Loss:   0.0416, Validation Accuracy: 0.804600\n",
      "Epoch 45, CIFAR-10 Batch 1:  Loss:   0.0411, Validation Accuracy: 0.809800\n",
      "Epoch 45, CIFAR-10 Batch 2:  Loss:   0.0425, Validation Accuracy: 0.808800\n",
      "Epoch 45, CIFAR-10 Batch 3:  Loss:   0.0570, Validation Accuracy: 0.802000\n",
      "Epoch 45, CIFAR-10 Batch 4:  Loss:   0.0302, Validation Accuracy: 0.816000\n",
      "Epoch 45, CIFAR-10 Batch 5:  Loss:   0.0313, Validation Accuracy: 0.812600\n",
      "Epoch 46, CIFAR-10 Batch 1:  Loss:   0.0370, Validation Accuracy: 0.815800\n",
      "Epoch 46, CIFAR-10 Batch 2:  Loss:   0.0260, Validation Accuracy: 0.821000\n",
      "Epoch 46, CIFAR-10 Batch 3:  Loss:   0.0369, Validation Accuracy: 0.818400\n",
      "Epoch 46, CIFAR-10 Batch 4:  Loss:   0.0311, Validation Accuracy: 0.812400\n",
      "Epoch 46, CIFAR-10 Batch 5:  Loss:   0.0289, Validation Accuracy: 0.818400\n",
      "Epoch 47, CIFAR-10 Batch 1:  Loss:   0.0295, Validation Accuracy: 0.814400\n",
      "Epoch 47, CIFAR-10 Batch 2:  Loss:   0.0285, Validation Accuracy: 0.816200\n",
      "Epoch 47, CIFAR-10 Batch 3:  Loss:   0.0386, Validation Accuracy: 0.815400\n",
      "Epoch 47, CIFAR-10 Batch 4:  Loss:   0.0352, Validation Accuracy: 0.808200\n",
      "Epoch 47, CIFAR-10 Batch 5:  Loss:   0.0270, Validation Accuracy: 0.816000\n",
      "Epoch 48, CIFAR-10 Batch 1:  Loss:   0.0377, Validation Accuracy: 0.804200\n",
      "Epoch 48, CIFAR-10 Batch 2:  Loss:   0.0361, Validation Accuracy: 0.813200\n",
      "Epoch 48, CIFAR-10 Batch 3:  Loss:   0.0310, Validation Accuracy: 0.816800\n",
      "Epoch 48, CIFAR-10 Batch 4:  Loss:   0.0292, Validation Accuracy: 0.813000\n",
      "Epoch 48, CIFAR-10 Batch 5:  Loss:   0.0233, Validation Accuracy: 0.816800\n",
      "Epoch 49, CIFAR-10 Batch 1:  Loss:   0.0299, Validation Accuracy: 0.819000\n",
      "Epoch 49, CIFAR-10 Batch 2:  Loss:   0.0244, Validation Accuracy: 0.818400\n",
      "Epoch 49, CIFAR-10 Batch 3:  Loss:   0.0410, Validation Accuracy: 0.815800\n",
      "Epoch 49, CIFAR-10 Batch 4:  Loss:   0.0256, Validation Accuracy: 0.815000\n",
      "Epoch 49, CIFAR-10 Batch 5:  Loss:   0.0225, Validation Accuracy: 0.810000\n",
      "Epoch 50, CIFAR-10 Batch 1:  Loss:   0.0305, Validation Accuracy: 0.814400\n",
      "Epoch 50, CIFAR-10 Batch 2:  Loss:   0.0204, Validation Accuracy: 0.824000\n",
      "Epoch 50, CIFAR-10 Batch 3:  Loss:   0.0264, Validation Accuracy: 0.814400\n",
      "Epoch 50, CIFAR-10 Batch 4:  Loss:   0.0250, Validation Accuracy: 0.810000\n",
      "Epoch 50, CIFAR-10 Batch 5:  Loss:   0.0198, Validation Accuracy: 0.815800\n",
      "Epoch 51, CIFAR-10 Batch 1:  Loss:   0.0269, Validation Accuracy: 0.815600\n",
      "Epoch 51, CIFAR-10 Batch 2:  Loss:   0.0257, Validation Accuracy: 0.813800\n",
      "Epoch 51, CIFAR-10 Batch 3:  Loss:   0.0278, Validation Accuracy: 0.818400\n",
      "Epoch 51, CIFAR-10 Batch 4:  Loss:   0.0283, Validation Accuracy: 0.809600\n",
      "Epoch 51, CIFAR-10 Batch 5:  Loss:   0.0258, Validation Accuracy: 0.808400\n",
      "Epoch 52, CIFAR-10 Batch 1:  Loss:   0.0300, Validation Accuracy: 0.820200\n",
      "Epoch 52, CIFAR-10 Batch 2:  Loss:   0.0208, Validation Accuracy: 0.816000\n",
      "Epoch 52, CIFAR-10 Batch 3:  Loss:   0.0270, Validation Accuracy: 0.817600\n",
      "Epoch 52, CIFAR-10 Batch 4:  Loss:   0.0194, Validation Accuracy: 0.820800\n",
      "Epoch 52, CIFAR-10 Batch 5:  Loss:   0.0207, Validation Accuracy: 0.810400\n",
      "Epoch 53, CIFAR-10 Batch 1:  Loss:   0.0243, Validation Accuracy: 0.815400\n",
      "Epoch 53, CIFAR-10 Batch 2:  Loss:   0.0152, Validation Accuracy: 0.816000\n",
      "Epoch 53, CIFAR-10 Batch 3:  Loss:   0.0244, Validation Accuracy: 0.815400\n",
      "Epoch 53, CIFAR-10 Batch 4:  Loss:   0.0180, Validation Accuracy: 0.819200\n",
      "Epoch 53, CIFAR-10 Batch 5:  Loss:   0.0130, Validation Accuracy: 0.813800\n",
      "Epoch 54, CIFAR-10 Batch 1:  Loss:   0.0232, Validation Accuracy: 0.817200\n",
      "Epoch 54, CIFAR-10 Batch 2:  Loss:   0.0144, Validation Accuracy: 0.814400\n",
      "Epoch 54, CIFAR-10 Batch 3:  Loss:   0.0213, Validation Accuracy: 0.815800\n",
      "Epoch 54, CIFAR-10 Batch 4:  Loss:   0.0192, Validation Accuracy: 0.814200\n",
      "Epoch 54, CIFAR-10 Batch 5:  Loss:   0.0149, Validation Accuracy: 0.816200\n",
      "Epoch 55, CIFAR-10 Batch 1:  Loss:   0.0173, Validation Accuracy: 0.814800\n",
      "Epoch 55, CIFAR-10 Batch 2:  Loss:   0.0155, Validation Accuracy: 0.817000\n",
      "Epoch 55, CIFAR-10 Batch 3:  Loss:   0.0188, Validation Accuracy: 0.820200\n",
      "Epoch 55, CIFAR-10 Batch 4:  Loss:   0.0149, Validation Accuracy: 0.814400\n",
      "Epoch 55, CIFAR-10 Batch 5:  Loss:   0.0109, Validation Accuracy: 0.815600\n",
      "Epoch 56, CIFAR-10 Batch 1:  Loss:   0.0137, Validation Accuracy: 0.815400\n",
      "Epoch 56, CIFAR-10 Batch 2:  Loss:   0.0137, Validation Accuracy: 0.814600\n",
      "Epoch 56, CIFAR-10 Batch 3:  Loss:   0.0185, Validation Accuracy: 0.814800\n",
      "Epoch 56, CIFAR-10 Batch 4:  Loss:   0.0155, Validation Accuracy: 0.811800\n",
      "Epoch 56, CIFAR-10 Batch 5:  Loss:   0.0130, Validation Accuracy: 0.811200\n",
      "Epoch 57, CIFAR-10 Batch 1:  Loss:   0.0131, Validation Accuracy: 0.819200\n",
      "Epoch 57, CIFAR-10 Batch 2:  Loss:   0.0132, Validation Accuracy: 0.811000\n",
      "Epoch 57, CIFAR-10 Batch 3:  Loss:   0.0147, Validation Accuracy: 0.812000\n",
      "Epoch 57, CIFAR-10 Batch 4:  Loss:   0.0144, Validation Accuracy: 0.819000\n",
      "Epoch 57, CIFAR-10 Batch 5:  Loss:   0.0138, Validation Accuracy: 0.812400\n",
      "Epoch 58, CIFAR-10 Batch 1:  Loss:   0.0150, Validation Accuracy: 0.813200\n",
      "Epoch 58, CIFAR-10 Batch 2:  Loss:   0.0143, Validation Accuracy: 0.809000\n",
      "Epoch 58, CIFAR-10 Batch 3:  Loss:   0.0226, Validation Accuracy: 0.807200\n",
      "Epoch 58, CIFAR-10 Batch 4:  Loss:   0.0130, Validation Accuracy: 0.823400\n",
      "Epoch 58, CIFAR-10 Batch 5:  Loss:   0.0135, Validation Accuracy: 0.816800\n",
      "Epoch 59, CIFAR-10 Batch 1:  Loss:   0.0170, Validation Accuracy: 0.809600\n",
      "Epoch 59, CIFAR-10 Batch 2:  Loss:   0.0117, Validation Accuracy: 0.814800\n",
      "Epoch 59, CIFAR-10 Batch 3:  Loss:   0.0171, Validation Accuracy: 0.817400\n",
      "Epoch 59, CIFAR-10 Batch 4:  Loss:   0.0123, Validation Accuracy: 0.817400\n",
      "Epoch 59, CIFAR-10 Batch 5:  Loss:   0.0100, Validation Accuracy: 0.817400\n",
      "Epoch 60, CIFAR-10 Batch 1:  Loss:   0.0124, Validation Accuracy: 0.822600\n",
      "Epoch 60, CIFAR-10 Batch 2:  Loss:   0.0094, Validation Accuracy: 0.811200\n",
      "Epoch 60, CIFAR-10 Batch 3:  Loss:   0.0174, Validation Accuracy: 0.817400\n",
      "Epoch 60, CIFAR-10 Batch 4:  Loss:   0.0121, Validation Accuracy: 0.823600\n",
      "Epoch 60, CIFAR-10 Batch 5:  Loss:   0.0121, Validation Accuracy: 0.817000\n",
      "Epoch 61, CIFAR-10 Batch 1:  Loss:   0.0129, Validation Accuracy: 0.824200\n",
      "Epoch 61, CIFAR-10 Batch 2:  Loss:   0.0109, Validation Accuracy: 0.818000\n",
      "Epoch 61, CIFAR-10 Batch 3:  Loss:   0.0164, Validation Accuracy: 0.821400\n",
      "Epoch 61, CIFAR-10 Batch 4:  Loss:   0.0131, Validation Accuracy: 0.815200\n",
      "Epoch 61, CIFAR-10 Batch 5:  Loss:   0.0112, Validation Accuracy: 0.819400\n",
      "Epoch 62, CIFAR-10 Batch 1:  Loss:   0.0131, Validation Accuracy: 0.813800\n",
      "Epoch 62, CIFAR-10 Batch 2:  Loss:   0.0104, Validation Accuracy: 0.812400\n",
      "Epoch 62, CIFAR-10 Batch 3:  Loss:   0.0163, Validation Accuracy: 0.817400\n",
      "Epoch 62, CIFAR-10 Batch 4:  Loss:   0.0114, Validation Accuracy: 0.815800\n",
      "Epoch 62, CIFAR-10 Batch 5:  Loss:   0.0105, Validation Accuracy: 0.809400\n",
      "Epoch 63, CIFAR-10 Batch 1:  Loss:   0.0127, Validation Accuracy: 0.809800\n",
      "Epoch 63, CIFAR-10 Batch 2:  Loss:   0.0091, Validation Accuracy: 0.818200\n",
      "Epoch 63, CIFAR-10 Batch 3:  Loss:   0.0160, Validation Accuracy: 0.815200\n",
      "Epoch 63, CIFAR-10 Batch 4:  Loss:   0.0110, Validation Accuracy: 0.809600\n",
      "Epoch 63, CIFAR-10 Batch 5:  Loss:   0.0134, Validation Accuracy: 0.806600\n",
      "Epoch 64, CIFAR-10 Batch 1:  Loss:   0.0165, Validation Accuracy: 0.802000\n",
      "Epoch 64, CIFAR-10 Batch 2:  Loss:   0.0143, Validation Accuracy: 0.812400\n",
      "Epoch 64, CIFAR-10 Batch 3:  Loss:   0.0117, Validation Accuracy: 0.817800\n",
      "Epoch 64, CIFAR-10 Batch 4:  Loss:   0.0111, Validation Accuracy: 0.811000\n",
      "Epoch 64, CIFAR-10 Batch 5:  Loss:   0.0118, Validation Accuracy: 0.809200\n",
      "Epoch 65, CIFAR-10 Batch 1:  Loss:   0.0137, Validation Accuracy: 0.797000\n",
      "Epoch 65, CIFAR-10 Batch 2:  Loss:   0.0122, Validation Accuracy: 0.814400\n",
      "Epoch 65, CIFAR-10 Batch 3:  Loss:   0.0090, Validation Accuracy: 0.822000\n",
      "Epoch 65, CIFAR-10 Batch 4:  Loss:   0.0090, Validation Accuracy: 0.813400\n",
      "Epoch 65, CIFAR-10 Batch 5:  Loss:   0.0102, Validation Accuracy: 0.819400\n",
      "Epoch 66, CIFAR-10 Batch 1:  Loss:   0.0089, Validation Accuracy: 0.808000\n",
      "Epoch 66, CIFAR-10 Batch 2:  Loss:   0.0091, Validation Accuracy: 0.815600\n"
     ]
    },
    {
     "name": "stdout",
     "output_type": "stream",
     "text": [
      "Epoch 66, CIFAR-10 Batch 3:  Loss:   0.0089, Validation Accuracy: 0.816800\n",
      "Epoch 66, CIFAR-10 Batch 4:  Loss:   0.0073, Validation Accuracy: 0.819200\n",
      "Epoch 66, CIFAR-10 Batch 5:  Loss:   0.0090, Validation Accuracy: 0.818200\n",
      "Epoch 67, CIFAR-10 Batch 1:  Loss:   0.0094, Validation Accuracy: 0.811400\n",
      "Epoch 67, CIFAR-10 Batch 2:  Loss:   0.0090, Validation Accuracy: 0.809000\n",
      "Epoch 67, CIFAR-10 Batch 3:  Loss:   0.0109, Validation Accuracy: 0.815000\n",
      "Epoch 67, CIFAR-10 Batch 4:  Loss:   0.0090, Validation Accuracy: 0.813800\n",
      "Epoch 67, CIFAR-10 Batch 5:  Loss:   0.0090, Validation Accuracy: 0.819000\n",
      "Epoch 68, CIFAR-10 Batch 1:  Loss:   0.0075, Validation Accuracy: 0.812800\n",
      "Epoch 68, CIFAR-10 Batch 2:  Loss:   0.0075, Validation Accuracy: 0.818800\n",
      "Epoch 68, CIFAR-10 Batch 3:  Loss:   0.0099, Validation Accuracy: 0.812400\n",
      "Epoch 68, CIFAR-10 Batch 4:  Loss:   0.0087, Validation Accuracy: 0.812800\n",
      "Epoch 68, CIFAR-10 Batch 5:  Loss:   0.0094, Validation Accuracy: 0.815600\n",
      "Epoch 69, CIFAR-10 Batch 1:  Loss:   0.0063, Validation Accuracy: 0.814000\n",
      "Epoch 69, CIFAR-10 Batch 2:  Loss:   0.0052, Validation Accuracy: 0.820600\n",
      "Epoch 69, CIFAR-10 Batch 3:  Loss:   0.0090, Validation Accuracy: 0.818400\n",
      "Epoch 69, CIFAR-10 Batch 4:  Loss:   0.0089, Validation Accuracy: 0.809200\n",
      "Epoch 69, CIFAR-10 Batch 5:  Loss:   0.0088, Validation Accuracy: 0.809800\n",
      "Epoch 70, CIFAR-10 Batch 1:  Loss:   0.0086, Validation Accuracy: 0.813800\n",
      "Epoch 70, CIFAR-10 Batch 2:  Loss:   0.0075, Validation Accuracy: 0.817000\n",
      "Epoch 70, CIFAR-10 Batch 3:  Loss:   0.0077, Validation Accuracy: 0.817000\n",
      "Epoch 70, CIFAR-10 Batch 4:  Loss:   0.0081, Validation Accuracy: 0.812000\n",
      "Epoch 70, CIFAR-10 Batch 5:  Loss:   0.0116, Validation Accuracy: 0.808800\n",
      "Epoch 71, CIFAR-10 Batch 1:  Loss:   0.0057, Validation Accuracy: 0.815800\n",
      "Epoch 71, CIFAR-10 Batch 2:  Loss:   0.0068, Validation Accuracy: 0.819000\n",
      "Epoch 71, CIFAR-10 Batch 3:  Loss:   0.0080, Validation Accuracy: 0.817000\n",
      "Epoch 71, CIFAR-10 Batch 4:  Loss:   0.0112, Validation Accuracy: 0.806600\n",
      "Epoch 71, CIFAR-10 Batch 5:  Loss:   0.0099, Validation Accuracy: 0.809000\n",
      "Epoch 72, CIFAR-10 Batch 1:  Loss:   0.0081, Validation Accuracy: 0.806000\n",
      "Epoch 72, CIFAR-10 Batch 2:  Loss:   0.0081, Validation Accuracy: 0.821400\n",
      "Epoch 72, CIFAR-10 Batch 3:  Loss:   0.0081, Validation Accuracy: 0.823400\n",
      "Epoch 72, CIFAR-10 Batch 4:  Loss:   0.0059, Validation Accuracy: 0.813600\n",
      "Epoch 72, CIFAR-10 Batch 5:  Loss:   0.0076, Validation Accuracy: 0.812600\n",
      "Epoch 73, CIFAR-10 Batch 1:  Loss:   0.0075, Validation Accuracy: 0.812800\n",
      "Epoch 73, CIFAR-10 Batch 2:  Loss:   0.0068, Validation Accuracy: 0.812800\n",
      "Epoch 73, CIFAR-10 Batch 3:  Loss:   0.0094, Validation Accuracy: 0.817800\n",
      "Epoch 73, CIFAR-10 Batch 4:  Loss:   0.0050, Validation Accuracy: 0.818000\n",
      "Epoch 73, CIFAR-10 Batch 5:  Loss:   0.0054, Validation Accuracy: 0.818600\n",
      "Epoch 74, CIFAR-10 Batch 1:  Loss:   0.0073, Validation Accuracy: 0.817400\n",
      "Epoch 74, CIFAR-10 Batch 2:  Loss:   0.0056, Validation Accuracy: 0.820800\n",
      "Epoch 74, CIFAR-10 Batch 3:  Loss:   0.0070, Validation Accuracy: 0.822200\n",
      "Epoch 74, CIFAR-10 Batch 4:  Loss:   0.0048, Validation Accuracy: 0.820000\n",
      "Epoch 74, CIFAR-10 Batch 5:  Loss:   0.0063, Validation Accuracy: 0.814400\n",
      "Epoch 75, CIFAR-10 Batch 1:  Loss:   0.0090, Validation Accuracy: 0.811000\n",
      "Epoch 75, CIFAR-10 Batch 2:  Loss:   0.0053, Validation Accuracy: 0.815400\n",
      "Epoch 75, CIFAR-10 Batch 3:  Loss:   0.0067, Validation Accuracy: 0.820600\n",
      "Epoch 75, CIFAR-10 Batch 4:  Loss:   0.0058, Validation Accuracy: 0.815600\n",
      "Epoch 75, CIFAR-10 Batch 5:  Loss:   0.0073, Validation Accuracy: 0.817600\n",
      "Epoch 76, CIFAR-10 Batch 1:  Loss:   0.0056, Validation Accuracy: 0.818000\n",
      "Epoch 76, CIFAR-10 Batch 2:  Loss:   0.0044, Validation Accuracy: 0.817400\n",
      "Epoch 76, CIFAR-10 Batch 3:  Loss:   0.0070, Validation Accuracy: 0.816000\n",
      "Epoch 76, CIFAR-10 Batch 4:  Loss:   0.0057, Validation Accuracy: 0.817800\n",
      "Epoch 76, CIFAR-10 Batch 5:  Loss:   0.0063, Validation Accuracy: 0.813200\n",
      "Epoch 77, CIFAR-10 Batch 1:  Loss:   0.0070, Validation Accuracy: 0.816800\n",
      "Epoch 77, CIFAR-10 Batch 2:  Loss:   0.0035, Validation Accuracy: 0.821000\n",
      "Epoch 77, CIFAR-10 Batch 3:  Loss:   0.0055, Validation Accuracy: 0.821800\n",
      "Epoch 77, CIFAR-10 Batch 4:  Loss:   0.0048, Validation Accuracy: 0.814200\n",
      "Epoch 77, CIFAR-10 Batch 5:  Loss:   0.0068, Validation Accuracy: 0.812000\n",
      "Epoch 78, CIFAR-10 Batch 1:  Loss:   0.0060, Validation Accuracy: 0.818800\n",
      "Epoch 78, CIFAR-10 Batch 2:  Loss:   0.0043, Validation Accuracy: 0.823800\n",
      "Epoch 78, CIFAR-10 Batch 3:  Loss:   0.0063, Validation Accuracy: 0.818600\n",
      "Epoch 78, CIFAR-10 Batch 4:  Loss:   0.0045, Validation Accuracy: 0.815000\n",
      "Epoch 78, CIFAR-10 Batch 5:  Loss:   0.0060, Validation Accuracy: 0.813400\n",
      "Epoch 79, CIFAR-10 Batch 1:  Loss:   0.0060, Validation Accuracy: 0.819600\n",
      "Epoch 79, CIFAR-10 Batch 2:  Loss:   0.0049, Validation Accuracy: 0.822200\n",
      "Epoch 79, CIFAR-10 Batch 3:  Loss:   0.0076, Validation Accuracy: 0.815600\n",
      "Epoch 79, CIFAR-10 Batch 4:  Loss:   0.0075, Validation Accuracy: 0.810200\n",
      "Epoch 79, CIFAR-10 Batch 5:  Loss:   0.0054, Validation Accuracy: 0.816800\n",
      "Epoch 80, CIFAR-10 Batch 1:  Loss:   0.0055, Validation Accuracy: 0.818000\n",
      "Epoch 80, CIFAR-10 Batch 2:  Loss:   0.0044, Validation Accuracy: 0.818800\n",
      "Epoch 80, CIFAR-10 Batch 3:  Loss:   0.0073, Validation Accuracy: 0.812600\n",
      "Epoch 80, CIFAR-10 Batch 4:  Loss:   0.0043, Validation Accuracy: 0.819400\n",
      "Epoch 80, CIFAR-10 Batch 5:  Loss:   0.0049, Validation Accuracy: 0.815000\n"
     ]
    }
   ],
   "source": [
    "print(\"Training...\")\n",
    "with tf.Session() as sess:\n",
    "    # Initializing the variables\n",
    "    sess.run(tf.global_variables_initializer())\n",
    "    \n",
    "    # Training cycle\n",
    "    for epoch in range(epochs):\n",
    "        n_batches = 5\n",
    "        for batch_i in range(1, n_batches+1):\n",
    "            for batch_features, batch_labels in load_preprocess_training_batch(batch_i, batch_size):\n",
    "                sess.run(\n",
    "                    optimizer, \n",
    "                    feed_dict={\n",
    "                        x: batch_features, \n",
    "                        y: batch_labels, \n",
    "                        keep_prob: keep_probability\n",
    "                    }\n",
    "                )\n",
    "            print('Epoch {:>2}, CIFAR-10 Batch {}:  '.format(epoch + 1, batch_i), end='')\n",
    "            print_stats(sess, batch_features, batch_labels, cost, accuracy)\n",
    "    \n",
    "    # Save Model\n",
    "    saver = tf.train.Saver()\n",
    "    save_path = saver.save(sess, './image_classification')"
   ]
  },
  {
   "cell_type": "markdown",
   "metadata": {
    "collapsed": true
   },
   "source": [
    "**Test the model**\n",
    "\n",
    "We test the model against the test dataset to assess the model accuracy."
   ]
  },
  {
   "cell_type": "markdown",
   "metadata": {},
   "source": [
    "_Checkpoint_: once we have trained our model, we can start here without running everything again."
   ]
  },
  {
   "cell_type": "code",
   "execution_count": 23,
   "metadata": {},
   "outputs": [],
   "source": [
    "import tensorflow as tf\n",
    "import pickle\n",
    "import random\n",
    "import numpy as np"
   ]
  },
  {
   "cell_type": "code",
   "execution_count": 24,
   "metadata": {
    "collapsed": true
   },
   "outputs": [],
   "source": [
    "model_path = './image_classification'\n",
    "n_samples = 4\n",
    "top_n_predictions = 3"
   ]
  },
  {
   "cell_type": "code",
   "execution_count": 25,
   "metadata": {},
   "outputs": [],
   "source": [
    "test_features, test_labels = pickle.load(open('preprocess_test.p', mode='rb'))\n",
    "loaded_graph = tf.Graph()\n"
   ]
  },
  {
   "cell_type": "code",
   "execution_count": 26,
   "metadata": {
    "collapsed": true
   },
   "outputs": [],
   "source": [
    "def batch_features_labels(features, labels, batch_size):\n",
    "    \"\"\"\n",
    "    Split features and labels into batches\n",
    "    \"\"\"\n",
    "    for start in range(0, len(features), batch_size):\n",
    "        end = min(start + batch_size, len(features))\n",
    "        yield features[start:end], labels[start:end]"
   ]
  },
  {
   "cell_type": "code",
   "execution_count": 33,
   "metadata": {
    "collapsed": true
   },
   "outputs": [],
   "source": [
    "from sklearn.preprocessing import LabelBinarizer\n",
    "import matplotlib.pyplot as plt\n",
    "\n",
    "def display_image_predictions(features, labels, predictions):\n",
    "    n_classes = 10\n",
    "    label_binarizer = LabelBinarizer()\n",
    "    label_binarizer.fit(range(n_classes))\n",
    "    label_ids = label_binarizer.inverse_transform(np.array(labels))\n",
    "\n",
    "    fig, axies = plt.subplots(nrows=4, ncols=2)\n",
    "    fig.tight_layout()\n",
    "    fig.suptitle('Softmax Predictions', fontsize=20, y=1.1)\n",
    "\n",
    "    n_predictions = 3\n",
    "    margin = 0.05\n",
    "    ind = np.arange(n_predictions)\n",
    "    width = (1. - 2. * margin) / n_predictions\n",
    "\n",
    "    for image_i, (feature, label_id, pred_indicies, pred_values) in enumerate(zip(features, label_ids, predictions.indices, predictions.values)):\n",
    "        pred_names = [label_names[pred_i] for pred_i in pred_indicies]\n",
    "        correct_name = label_names[label_id]\n",
    "\n",
    "        axies[image_i][0].imshow(feature)\n",
    "        axies[image_i][0].set_title(correct_name)\n",
    "        axies[image_i][0].set_axis_off()\n",
    "\n",
    "        axies[image_i][1].barh(ind + margin, pred_values[::-1], width)\n",
    "        axies[image_i][1].set_yticks(ind + margin)\n",
    "        axies[image_i][1].set_yticklabels(pred_names[::-1])\n",
    "        axies[image_i][1].set_xticks([0, 0.5, 1.0])"
   ]
  },
  {
   "cell_type": "code",
   "execution_count": 34,
   "metadata": {},
   "outputs": [
    {
     "name": "stdout",
     "output_type": "stream",
     "text": [
      "INFO:tensorflow:Restoring parameters from ./image_classification\n",
      "Testing Accuracy: 0.8151358485221862\n",
      "\n"
     ]
    },
    {
     "data": {
      "image/png": "[encoded data removed]",
      "text/plain": [
       "<matplotlib.figure.Figure at 0x7f0968df6b00>"
      ]
     },
     "metadata": {
      "image/png": {
       "height": 319,
       "width": 355
      }
     },
     "output_type": "display_data"
    }
   ],
   "source": [
    "with tf.Session(graph=loaded_graph) as sess:\n",
    "    # Load model\n",
    "    loader = tf.train.import_meta_graph(model_path + '.meta')\n",
    "    loader.restore(sess, model_path)\n",
    "\n",
    "    # Get Tensors from loaded model\n",
    "    loaded_x = loaded_graph.get_tensor_by_name('x:0')\n",
    "    loaded_y = loaded_graph.get_tensor_by_name('y:0')\n",
    "    loaded_keep_prob = loaded_graph.get_tensor_by_name('keep_prob:0')\n",
    "    loaded_logits = loaded_graph.get_tensor_by_name('logits:0')\n",
    "    loaded_acc = loaded_graph.get_tensor_by_name('accuracy:0')\n",
    "        \n",
    "    # Get accuracy in batches for memory limitations\n",
    "    test_batch_acc_total = 0\n",
    "    test_batch_count = 0\n",
    "    \n",
    "    for test_feature_batch, test_label_batch in batch_features_labels(test_features, test_labels, batch_size):\n",
    "        test_batch_acc_total += sess.run(\n",
    "            loaded_acc,\n",
    "            feed_dict={\n",
    "                loaded_x: test_feature_batch, \n",
    "                loaded_y: test_label_batch, \n",
    "                loaded_keep_prob: 1.0\n",
    "            }\n",
    "        )\n",
    "        test_batch_count += 1\n",
    "\n",
    "    print('Testing Accuracy: {}\\n'.format(test_batch_acc_total/test_batch_count))\n",
    "\n",
    "    # Print Random Samples\n",
    "    random_test_features, random_test_labels = tuple(zip(*random.sample(list(zip(test_features, test_labels)), n_samples)))\n",
    "    random_test_predictions = sess.run(\n",
    "        tf.nn.top_k(tf.nn.softmax(loaded_logits), top_n_predictions),\n",
    "        feed_dict={\n",
    "            loaded_x: random_test_features, \n",
    "            loaded_y: random_test_labels, \n",
    "            loaded_keep_prob: 1.0\n",
    "        }\n",
    "    )\n",
    "    display_image_predictions(random_test_features, random_test_labels, random_test_predictions)\n"
   ]
  }
 ],
 "metadata": {
  "kernelspec": {
   "display_name": "Python 3",
   "language": "python",
   "name": "python3"
  },
  "language_info": {
   "codemirror_mode": {
    "name": "ipython",
    "version": 3
   },
   "file_extension": ".py",
   "mimetype": "text/x-python",
   "name": "python",
   "nbconvert_exporter": "python",
   "pygments_lexer": "ipython3",
   "version": "3.5.2"
  },
  "latex_envs": {
   "LaTeX_envs_menu_present": true,
   "bibliofile": "biblio.bib",
   "cite_by": "apalike",
   "current_citInitial": 1,
   "eqLabelWithNumbers": true,
   "eqNumInitial": 1,
   "labels_anchors": false,
   "latex_user_defs": false,
   "report_style_numbering": false,
   "user_envs_cfg": false
  }
 },
 "nbformat": 4,
 "nbformat_minor": 2
}
